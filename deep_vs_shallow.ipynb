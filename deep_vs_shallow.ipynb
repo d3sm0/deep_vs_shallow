{
 "cells": [
  {
   "cell_type": "code",
   "execution_count": 1,
   "metadata": {
    "collapsed": true
   },
   "outputs": [],
   "source": [
    "import tensorflow as tf\n",
    "import matplotlib.pyplot as plt\n",
    "import numpy as np\n",
    "np.random.seed(100)"
   ]
  },
  {
   "cell_type": "code",
   "execution_count": 145,
   "metadata": {
    "collapsed": true
   },
   "outputs": [],
   "source": [
    "# params\n",
    "lr = 0.0001\n",
    "n_layers = 1\n",
    "n_epochs = 20"
   ]
  },
  {
   "cell_type": "code",
   "execution_count": null,
   "metadata": {
    "collapsed": true
   },
   "outputs": [],
   "source": [
    "# i want to do 3 tests\n",
    "# 1. increase of dimension\n",
    "# 2. increase of the degree of poly\n",
    "# 3. increase of local compositionality"
   ]
  },
  {
   "cell_type": "code",
   "execution_count": 243,
   "metadata": {
    "collapsed": true
   },
   "outputs": [],
   "source": [
    "def get_f(n_input,degree, n_samples = 60000):\n",
    "    # polynomial definition of the kind (colum sum of x )^ k \n",
    "    X = np.random.uniform(-1,1, n_input*n_samples)\n",
    "    X = np.reshape(X, (-1,n_input))\n",
    "    Y = np.sum(X, axis=1)**degree\n",
    "    dataset = np.column_stack((X,Y))\n",
    "    return dataset"
   ]
  },
  {
   "cell_type": "code",
   "execution_count": 272,
   "metadata": {
    "collapsed": true
   },
   "outputs": [],
   "source": [
    "def deep(x,y, weights, biases, n_layers = 1,act = tf.nn.relu):\n",
    "    \"\"\"\n",
    "    x: tensor placeholder of size [batch_size, input_dim]\n",
    "    y: tensor placeholder of size [batch_size, output_dim]\n",
    "    w: dict of weight matrices, indexed by n_layer. Weight matrix of DNN of size [h_size, h_size]\n",
    "    b: dict of vector biases, indxed by _nlayer. Bias vector of DNN of size [h_size] \n",
    "    \"\"\"\n",
    "    keys = sorted(w.keys())\n",
    "    layer = x\n",
    "    layers = []\n",
    "    # building network\n",
    "    for i in np.arange(n_layers):\n",
    "        layer = tf.nn.softplus(tf.add(tf.matmul(layer,w[keys[i]]), b[keys[i]]))\n",
    "        layers.append(layer)\n",
    "    output = tf.add(tf.matmul(layers[-1], w['out']), b['out'])\n",
    "    \n",
    "    # computing MSE\n",
    "    loss = tf.reduce_mean((output - y)**2)\n",
    "    \n",
    "    # minimize loss function using a variation of SGD\n",
    "    train_step = tf.train.AdamOptimizer(learning_rate=lr).minimize(loss)\n",
    "    return loss, train_step"
   ]
  },
  {
   "cell_type": "code",
   "execution_count": null,
   "metadata": {
    "collapsed": true
   },
   "outputs": [],
   "source": [
    "def params_init(n_input,h_size):\n",
    "    \"\"\"\n",
    "    n_input: dim of x\n",
    "    h_size: dim of hidden layer, i.e. n of neurons\n",
    "    \"\"\"\n",
    "    # using implicity xavier initializer. Which sample the inizialization of each weight according to\n",
    "    # normal with variance given 1/ Number of input neurons\n",
    "    # this is done to preserve the forward signal as much as possible\n",
    "    \n",
    "    w = {\n",
    "        'h1' : tf.get_variable(dtype=tf.float32, shape=[n_input, h_size],name = 'h1'),\n",
    "        'h2' : tf.get_variable(dtype=tf.float32, shape=[h_size, h_size],name = 'h2'),\n",
    "        'h3' : tf.get_variable(dtype=tf.float32, shape=[h_size, h_size],name = 'h3'),\n",
    "        'out' : tf.get_variable(dtype=tf.float32, shape=[h_size, 1],name = 'out'),\n",
    "    b = {\n",
    "        'h1': tf.Variable(tf.zeros([h_size])),\n",
    "        'h2': tf.Variable(tf.zeros([h_size])),\n",
    "        'h3': tf.Variable(tf.zeros([h_size])),\n",
    "        'out': tf.Variable(tf.zeros([1]))\n",
    "    }\n",
    "\n",
    "    return w, b"
   ]
  },
  {
   "cell_type": "code",
   "execution_count": 273,
   "metadata": {
    "collapsed": true
   },
   "outputs": [],
   "source": [
    "def train(dataset,x,y,train_op, loss_op,batch_size = 3000, n_trials = 5):\n",
    "    \n",
    "    step = 0\n",
    "    idx = np.arange(len(dataset))\n",
    "    total_loss = []\n",
    "    size = dataset.shape[1]-1\n",
    "    for t in np.arange(n_trials):\n",
    "        losses = []\n",
    "        for i in np.arange(n_epochs):\n",
    "            for _ in np.arange(20):\n",
    "                \n",
    "                # random minibatch sample\n",
    "                sample_idx = np.random.choice(idx, batch_size)\n",
    "                feed_dict = {\n",
    "                    x: dataset[sample_idx][:,:size],\n",
    "                    y: np.reshape(dataset[sample_idx][:, size], (-1,1))\n",
    "                }\n",
    "                # run the newtork\n",
    "                _, loss = sess.run([train_op,loss_op], feed_dict =feed_dict)\n",
    "                step += 1\n",
    "            losses.append(loss)\n",
    "        # append the average of the losses occured in n_epochs\n",
    "        total_loss.append(np.mean(losses))\n",
    "    # return best training and the total number of steps\n",
    "    return np.min(total_loss), step"
   ]
  },
  {
   "cell_type": "code",
   "execution_count": 514,
   "metadata": {
    "collapsed": true
   },
   "outputs": [],
   "source": [
    "n_poly = np.arange(2, 5)\n",
    "k_poly = np.arange(2, 5)"
   ]
  },
  {
   "cell_type": "code",
   "execution_count": 275,
   "metadata": {
    "collapsed": true
   },
   "outputs": [],
   "source": [
    "# number of neuron to try for each architecture\n",
    "h_sizes  = {\n",
    "    'h1':[24,48, 72],\n",
    "    'h2':[12, 24, 36],\n",
    "    'h3':[8, 16, 24]\n",
    "}\n",
    "h_keys = sorted(h_sizes.keys())"
   ]
  },
  {
   "cell_type": "code",
   "execution_count": 515,
   "metadata": {
    "collapsed": true
   },
   "outputs": [],
   "source": [
    "df_list = []"
   ]
  },
  {
   "cell_type": "code",
   "execution_count": 516,
   "metadata": {},
   "outputs": [
    {
     "name": "stdout",
     "output_type": "stream",
     "text": [
      "true poly of k2 in n var 2\n",
      "h of size 24, with loss 0.3789772391319275 and total steps 4000\n",
      "h of size 48, with loss 0.4133397936820984 and total steps 4000\n",
      "h of size 72, with loss 0.3488385081291199 and total steps 4000\n",
      "h of size 12, with loss 0.5455536842346191 and total steps 4000\n",
      "h of size 24, with loss 0.051045048981904984 and total steps 4000\n",
      "h of size 36, with loss 0.24530482292175293 and total steps 4000\n",
      "h of size 8, with loss 0.4963828921318054 and total steps 4000\n",
      "h of size 16, with loss 0.041524700820446014 and total steps 4000\n",
      "h of size 24, with loss 0.19971172511577606 and total steps 4000\n",
      "true poly of k3 in n var 2\n",
      "h of size 24, with loss 0.6139726638793945 and total steps 4000\n",
      "h of size 48, with loss 0.590933620929718 and total steps 4000\n",
      "h of size 72, with loss 0.5833229422569275 and total steps 4000\n",
      "h of size 12, with loss 0.5988036394119263 and total steps 4000\n",
      "h of size 24, with loss 0.5954123735427856 and total steps 4000\n",
      "h of size 36, with loss 0.5883530378341675 and total steps 4000\n",
      "h of size 8, with loss 0.6379114985466003 and total steps 4000\n",
      "h of size 16, with loss 0.6550863981246948 and total steps 4000\n",
      "h of size 24, with loss 0.5899931192398071 and total steps 4000\n",
      "true poly of k4 in n var 2\n",
      "h of size 24, with loss 4.028531074523926 and total steps 4000\n",
      "h of size 48, with loss 4.162624359130859 and total steps 4000\n",
      "h of size 72, with loss 3.856142044067383 and total steps 4000\n",
      "h of size 12, with loss 4.219865798950195 and total steps 4000\n",
      "h of size 24, with loss 1.3237718343734741 and total steps 4000\n",
      "h of size 36, with loss 2.8431782722473145 and total steps 4000\n",
      "h of size 8, with loss 1.8076664209365845 and total steps 4000\n",
      "h of size 16, with loss 0.6892684698104858 and total steps 4000\n",
      "h of size 24, with loss 0.7194973230361938 and total steps 4000\n",
      "true poly of k2 in n var 3\n",
      "h of size 24, with loss 0.9510113000869751 and total steps 4000\n",
      "h of size 48, with loss 1.2137116193771362 and total steps 4000\n",
      "h of size 72, with loss 1.172755479812622 and total steps 4000\n",
      "h of size 12, with loss 0.3875481188297272 and total steps 4000\n",
      "h of size 24, with loss 0.1897069364786148 and total steps 4000\n",
      "h of size 36, with loss 0.0342378243803978 and total steps 4000\n",
      "h of size 8, with loss 0.05239301174879074 and total steps 4000\n",
      "h of size 16, with loss 0.19805309176445007 and total steps 4000\n",
      "h of size 24, with loss 0.011114129796624184 and total steps 4000\n",
      "true poly of k3 in n var 3\n",
      "h of size 24, with loss 3.0882701873779297 and total steps 4000\n",
      "h of size 48, with loss 3.0378952026367188 and total steps 4000\n",
      "h of size 72, with loss 3.0797781944274902 and total steps 4000\n",
      "h of size 12, with loss 3.7673850059509277 and total steps 4000\n",
      "h of size 24, with loss 2.936594247817993 and total steps 4000\n",
      "h of size 36, with loss 3.0165655612945557 and total steps 4000\n",
      "h of size 8, with loss 3.271157741546631 and total steps 4000\n",
      "h of size 16, with loss 3.0046167373657227 and total steps 4000\n",
      "h of size 24, with loss 2.9510116577148438 and total steps 4000\n",
      "true poly of k4 in n var 3\n",
      "h of size 24, with loss 35.174827575683594 and total steps 4000\n",
      "h of size 48, with loss 36.92900848388672 and total steps 4000\n",
      "h of size 72, with loss 33.62493133544922 and total steps 4000\n",
      "h of size 12, with loss 33.59579849243164 and total steps 4000\n",
      "h of size 24, with loss 22.23690414428711 and total steps 4000\n",
      "h of size 36, with loss 9.737772941589355 and total steps 4000\n",
      "h of size 8, with loss 29.985858917236328 and total steps 4000\n",
      "h of size 16, with loss 10.401326179504395 and total steps 4000\n",
      "h of size 24, with loss 7.83721923828125 and total steps 4000\n",
      "true poly of k2 in n var 4\n",
      "h of size 24, with loss 2.5371451377868652 and total steps 4000\n",
      "h of size 48, with loss 2.102185010910034 and total steps 4000\n",
      "h of size 72, with loss 1.5950195789337158 and total steps 4000\n",
      "h of size 12, with loss 0.23614084720611572 and total steps 4000\n",
      "h of size 24, with loss 1.470853328704834 and total steps 4000\n",
      "h of size 36, with loss 0.09497897326946259 and total steps 4000\n",
      "h of size 8, with loss 1.6905149221420288 and total steps 4000\n",
      "h of size 16, with loss 0.04899836331605911 and total steps 4000\n",
      "h of size 24, with loss 0.08101953566074371 and total steps 4000\n",
      "true poly of k3 in n var 4\n",
      "h of size 24, with loss 10.20853328704834 and total steps 4000\n",
      "h of size 48, with loss 8.662184715270996 and total steps 4000\n",
      "h of size 72, with loss 8.68502426147461 and total steps 4000\n",
      "h of size 12, with loss 9.11374282836914 and total steps 4000\n",
      "h of size 24, with loss 8.547009468078613 and total steps 4000\n",
      "h of size 36, with loss 8.562887191772461 and total steps 4000\n",
      "h of size 8, with loss 9.252126693725586 and total steps 4000\n",
      "h of size 16, with loss 8.41948413848877 and total steps 4000\n",
      "h of size 24, with loss 7.821985721588135 and total steps 4000\n",
      "true poly of k4 in n var 4\n",
      "h of size 24, with loss 138.1585235595703 and total steps 4000\n",
      "h of size 48, with loss 134.02816772460938 and total steps 4000\n",
      "h of size 72, with loss 139.83914184570312 and total steps 4000\n",
      "h of size 12, with loss 137.4185791015625 and total steps 4000\n",
      "h of size 24, with loss 90.83963775634766 and total steps 4000\n",
      "h of size 36, with loss 99.33014678955078 and total steps 4000\n",
      "h of size 8, with loss 138.24398803710938 and total steps 4000\n",
      "h of size 16, with loss 108.42402648925781 and total steps 4000\n",
      "h of size 24, with loss 44.80268859863281 and total steps 4000\n"
     ]
    }
   ],
   "source": [
    "\"\"\"\n",
    "Using a NN of fixed number of paramaters, to approximate a polynomial of n variables and degree \n",
    "For NN with 1, 2 and 3 hidden layers.\n",
    "\n",
    "\"\"\"\n",
    "\n",
    "for n in n_poly:\n",
    "    for k in k_poly:\n",
    "        poly_list.append((n,k))\n",
    "        dataset  = get_f(n,k)\n",
    "        print('True poly of k {} and dim {}'.format(k,n))\n",
    "        \n",
    "        df = pd.DataFrame()\n",
    "        \n",
    "        for i in np.arange(len(h_keys)):\n",
    "            \n",
    "            h_size = h_sizes[h_keys[i]]\n",
    "            \n",
    "            n_layer = i+1\n",
    "            \n",
    "            losses = []\n",
    "\n",
    "            for h in h_size:\n",
    "                \n",
    "                tf.reset_default_graph()\n",
    "                sess = tf.Session()            \n",
    "                \n",
    "                # initialize w and b\n",
    "                w, b =  params_init(n, h)\n",
    "                x = tf.placeholder(\"float\", [None, n])\n",
    "                y = tf.placeholder(\"float\", [None, 1])    \n",
    "            \n",
    "                loss_op, train_op = deep(x,y,w, b, n_layers=n_layer)\n",
    "                sess.run(tf.global_variables_initializer())\n",
    "                \n",
    "                # get best of training, and total number of steps\n",
    "                loss, step = train(dataset, x, y, sh_train, sh_loss)\n",
    "                \n",
    "                print('h of size {}, with loss {} and total steps {}'.format(h,loss, step))\n",
    "\n",
    "                losses.append(loss)\n",
    "                steps.append(step)\n",
    "                sess.close()\n",
    "            df[i] = losses\n",
    "\n",
    "        df_list.append(df)"
   ]
  },
  {
   "cell_type": "code",
   "execution_count": 519,
   "metadata": {},
   "outputs": [],
   "source": [
    "df = pd.concat(df_list)\n",
    "df = df.rename({0:'24', 1:'48', 2:'72'},columns={0:'h1',1:'h2', 2:'h3'})\n",
    "df.to_pickle('exp_1.pkl')"
   ]
  },
  {
   "cell_type": "code",
   "execution_count": null,
   "metadata": {
    "collapsed": true
   },
   "outputs": [],
   "source": [
    "df_list = []\n",
    "for t, df in zip(true_poly, df_list):\n",
    "    if t[0] == 4:\n",
    "        df = df.rename({0:'24', 1:'48', 2:'72'},columns={0:'h1',1:'h2', 2:'h3'})\n",
    "        df_list.append(df)"
   ]
  },
  {
   "cell_type": "code",
   "execution_count": 891,
   "metadata": {
    "collapsed": true
   },
   "outputs": [],
   "source": [
    "true_poly = poly_list[81:]"
   ]
  },
  {
   "cell_type": "code",
   "execution_count": 911,
   "metadata": {},
   "outputs": [
    {
     "data": {
      "image/png": "[encoded data removed]",
      "text/plain": [
       "<matplotlib.figure.Figure at 0x135187048>"
      ]
     },
     "metadata": {},
     "output_type": "display_data"
    },
    {
     "data": {
      "image/png": "[encoded data removed]",
      "text/plain": [
       "<matplotlib.figure.Figure at 0x12ac7bda0>"
      ]
     },
     "metadata": {},
     "output_type": "display_data"
    },
    {
     "data": {
      "image/png": "[encoded data removed]",
      "text/plain": [
       "<matplotlib.figure.Figure at 0x12d66e1d0>"
      ]
     },
     "metadata": {},
     "output_type": "display_data"
    }
   ],
   "source": [
    "for c, plot in zip(true_poly[6:],plot_list):\n",
    "    title = '$P_{}^{}$'.format(c[0],c[1])\n",
    "    plot = plot.rename({0:'24', 1:'48', 2:'72'},columns={0:'layer_1',1:'layer_2', 2:'layer_3'})\n",
    "    ax = plot.plot(lw = 2)\n",
    "    ax.set_ylabel('MSE')\n",
    "    ax.set_xlabel('Number of units')\n",
    "    fig = ax.get_figure()\n",
    "    fig.savefig('f_dimension{}.png'.format(c[1]))\n",
    "plt.show()"
   ]
  },
  {
   "cell_type": "code",
   "execution_count": 748,
   "metadata": {},
   "outputs": [],
   "source": [
    "power_2 = np.arange(2,10, 1)"
   ]
  },
  {
   "cell_type": "code",
   "execution_count": 758,
   "metadata": {},
   "outputs": [],
   "source": [
    "eps = 0.05"
   ]
  },
  {
   "cell_type": "code",
   "execution_count": 765,
   "metadata": {},
   "outputs": [
    {
     "name": "stdout",
     "output_type": "stream",
     "text": [
      "true poly of k2 in n var 2\n",
      "last h  12 and total steps 4000\n",
      "last h  24 and total steps 8000\n",
      "last h  48 and total steps 12000\n",
      "last h  96 and total steps 16000\n",
      "last h  192 and total steps 20000\n",
      "last h  384 and total steps 24000\n",
      "last h  768 and total steps 28000\n",
      "h of size 1536, with loss 0.03707662969827652 and total steps 4000\n",
      "last h  6 and total steps 4000\n",
      "last h  12 and total steps 8000\n",
      "last h  24 and total steps 12000\n",
      "h of size 48, with loss 0.029309425503015518 and total steps 4000\n",
      "last h  4 and total steps 4000\n",
      "last h  8 and total steps 8000\n",
      "last h  16 and total steps 12000\n",
      "h of size 32, with loss 0.0028788489289581776 and total steps 4000\n",
      "true poly of k3 in n var 2\n",
      "last h  12 and total steps 4000\n",
      "last h  24 and total steps 8000\n",
      "last h  48 and total steps 12000\n",
      "last h  96 and total steps 16000\n",
      "last h  192 and total steps 20000\n",
      "last h  384 and total steps 24000\n",
      "last h  768 and total steps 28000\n",
      "last h  6 and total steps 4000\n",
      "last h  12 and total steps 8000\n",
      "last h  24 and total steps 12000\n",
      "last h  48 and total steps 16000\n",
      "last h  96 and total steps 20000\n",
      "last h  192 and total steps 24000\n",
      "last h  384 and total steps 28000\n",
      "last h  4 and total steps 4000\n",
      "last h  8 and total steps 8000\n",
      "last h  16 and total steps 12000\n",
      "last h  32 and total steps 16000\n",
      "last h  64 and total steps 20000\n",
      "last h  128 and total steps 24000\n",
      "last h  256 and total steps 28000\n",
      "true poly of k4 in n var 2\n",
      "last h  12 and total steps 4000\n",
      "last h  24 and total steps 8000\n",
      "last h  48 and total steps 12000\n",
      "last h  96 and total steps 16000\n",
      "last h  192 and total steps 20000\n",
      "last h  384 and total steps 24000\n",
      "last h  768 and total steps 28000\n",
      "last h  6 and total steps 4000\n",
      "last h  12 and total steps 8000\n",
      "last h  24 and total steps 12000\n",
      "last h  48 and total steps 16000\n",
      "last h  96 and total steps 20000\n",
      "last h  192 and total steps 24000\n",
      "last h  384 and total steps 28000\n",
      "h of size 768, with loss 0.028227176517248154 and total steps 4000\n",
      "last h  4 and total steps 4000\n",
      "last h  8 and total steps 8000\n",
      "last h  16 and total steps 12000\n",
      "last h  32 and total steps 16000\n",
      "h of size 64, with loss 0.02463660202920437 and total steps 4000\n",
      "true poly of k2 in n var 3\n",
      "last h  12 and total steps 4000\n",
      "last h  24 and total steps 8000\n",
      "last h  48 and total steps 12000\n",
      "last h  96 and total steps 16000\n",
      "last h  192 and total steps 20000\n",
      "last h  384 and total steps 24000\n",
      "last h  768 and total steps 28000\n",
      "h of size 1536, with loss 0.031376682221889496 and total steps 4000\n",
      "last h  6 and total steps 4000\n",
      "h of size 12, with loss 0.03864872828125954 and total steps 4000\n",
      "last h  4 and total steps 4000\n",
      "last h  8 and total steps 8000\n",
      "last h  16 and total steps 12000\n",
      "h of size 32, with loss 0.006323034875094891 and total steps 4000\n",
      "true poly of k3 in n var 3\n",
      "last h  12 and total steps 4000\n",
      "last h  24 and total steps 8000\n",
      "last h  48 and total steps 12000\n",
      "last h  96 and total steps 16000\n",
      "last h  192 and total steps 20000\n",
      "last h  384 and total steps 24000\n",
      "last h  768 and total steps 28000\n",
      "last h  6 and total steps 4000\n",
      "last h  12 and total steps 8000\n",
      "last h  24 and total steps 12000\n",
      "last h  48 and total steps 16000\n",
      "last h  96 and total steps 20000\n",
      "last h  192 and total steps 24000\n",
      "last h  384 and total steps 28000\n",
      "last h  4 and total steps 4000\n",
      "last h  8 and total steps 8000\n",
      "last h  16 and total steps 12000\n",
      "last h  32 and total steps 16000\n",
      "last h  64 and total steps 20000\n",
      "last h  128 and total steps 24000\n",
      "last h  256 and total steps 28000\n",
      "true poly of k4 in n var 3\n",
      "last h  12 and total steps 4000\n",
      "last h  24 and total steps 8000\n",
      "last h  48 and total steps 12000\n",
      "last h  96 and total steps 16000\n",
      "last h  192 and total steps 20000\n",
      "last h  384 and total steps 24000\n",
      "last h  768 and total steps 28000\n",
      "last h  6 and total steps 4000\n",
      "last h  12 and total steps 8000\n",
      "last h  24 and total steps 12000\n",
      "last h  48 and total steps 16000\n",
      "last h  96 and total steps 20000\n",
      "last h  192 and total steps 24000\n",
      "last h  384 and total steps 28000\n",
      "last h  4 and total steps 4000\n",
      "last h  8 and total steps 8000\n",
      "last h  16 and total steps 12000\n",
      "last h  32 and total steps 16000\n",
      "last h  64 and total steps 20000\n",
      "last h  128 and total steps 24000\n",
      "h of size 256, with loss 0.03933282941579819 and total steps 4000\n",
      "true poly of k2 in n var 4\n",
      "last h  12 and total steps 4000\n",
      "last h  24 and total steps 8000\n",
      "last h  48 and total steps 12000\n",
      "last h  96 and total steps 16000\n",
      "last h  192 and total steps 20000\n",
      "last h  384 and total steps 24000\n",
      "last h  768 and total steps 28000\n",
      "h of size 1536, with loss 0.011292040348052979 and total steps 4000\n",
      "last h  6 and total steps 4000\n",
      "last h  12 and total steps 8000\n",
      "last h  24 and total steps 12000\n",
      "last h  48 and total steps 16000\n",
      "h of size 96, with loss 0.024186745285987854 and total steps 4000\n",
      "last h  4 and total steps 4000\n",
      "last h  8 and total steps 8000\n",
      "last h  16 and total steps 12000\n",
      "h of size 32, with loss 0.022272884845733643 and total steps 4000\n",
      "true poly of k3 in n var 4\n",
      "last h  12 and total steps 4000\n",
      "last h  24 and total steps 8000\n",
      "last h  48 and total steps 12000\n",
      "last h  96 and total steps 16000\n",
      "last h  192 and total steps 20000\n",
      "last h  384 and total steps 24000\n",
      "last h  768 and total steps 28000\n",
      "last h  6 and total steps 4000\n",
      "last h  12 and total steps 8000\n",
      "last h  24 and total steps 12000\n",
      "last h  48 and total steps 16000\n",
      "last h  96 and total steps 20000\n",
      "last h  192 and total steps 24000\n",
      "last h  384 and total steps 28000\n",
      "last h  4 and total steps 4000\n",
      "last h  8 and total steps 8000\n",
      "last h  16 and total steps 12000\n",
      "last h  32 and total steps 16000\n",
      "last h  64 and total steps 20000\n",
      "last h  128 and total steps 24000\n",
      "last h  256 and total steps 28000\n",
      "true poly of k4 in n var 4\n",
      "last h  12 and total steps 4000\n",
      "last h  24 and total steps 8000\n",
      "last h  48 and total steps 12000\n",
      "last h  96 and total steps 16000\n",
      "last h  192 and total steps 20000\n",
      "last h  384 and total steps 24000\n",
      "last h  768 and total steps 28000\n",
      "last h  6 and total steps 4000\n",
      "last h  12 and total steps 8000\n",
      "last h  24 and total steps 12000\n",
      "last h  48 and total steps 16000\n",
      "last h  96 and total steps 20000\n",
      "last h  192 and total steps 24000\n",
      "last h  384 and total steps 28000\n",
      "last h  4 and total steps 4000\n",
      "last h  8 and total steps 8000\n",
      "last h  16 and total steps 12000\n",
      "last h  32 and total steps 16000\n",
      "last h  64 and total steps 20000\n",
      "last h  128 and total steps 24000\n",
      "last h  256 and total steps 28000\n"
     ]
    }
   ],
   "source": [
    "df_list = []\n",
    "poly_list = []\n",
    "for n in n_poly:\n",
    "    for k in k_poly:\n",
    "        poly_list.append((n,k))\n",
    "        dataset  = get_f(n,k)\n",
    "        print('true poly of k{} in n var {}'.format(k,n))\n",
    "        df = pd.DataFrame()\n",
    "        \n",
    "        for i in np.arange(3):\n",
    "            n_layer = i+1\n",
    "            stop = False\n",
    "            losses = []\n",
    "            total_step = 0\n",
    "            p = 0\n",
    "            while not stop:\n",
    "                tf.reset_default_graph()\n",
    "                sess = tf.Session()            \n",
    "                h =  int((3*2**(power_2[p]))/n_layer)\n",
    "                w, b =  params_init(n, h)\n",
    "                x = tf.placeholder(\"float\", [None, n])\n",
    "                y = tf.placeholder(\"float\", [None, 1])    \n",
    "\n",
    "                sh_loss, sh_train = deep(x,y,w, b, n_layers = n_layer)\n",
    "                sess.run(tf.global_variables_initializer())\n",
    "\n",
    "                loss, step = train(dataset,x,y,sh_train, sh_loss)\n",
    "                total_step += step\n",
    "                if loss < eps:\n",
    "                    print('h of size {}, with loss {} and total steps {}'.format(h,loss, step))\n",
    "                    losses.append(loss)\n",
    "                    steps.append(step)\n",
    "                    sess.close()\n",
    "                    stop = True\n",
    "                elif p+1 > 7 or total_step > 50000:\n",
    "                    losses.append(loss)\n",
    "                    stop = True\n",
    "                else:\n",
    "                    print('last h  {} and total steps {}'.format(h, total_step))\n",
    "                    p+=1\n",
    "\n",
    "            df[i] = losses\n",
    "\n",
    "        df_list.append(df)"
   ]
  },
  {
   "cell_type": "code",
   "execution_count": 830,
   "metadata": {},
   "outputs": [],
   "source": [
    "final_df = []\n",
    "for k,p in zip(df_list,poly_list[81:]):\n",
    "    if not k.empty:\n",
    "        row_name = 'poly_n{}_k{}'.format(p[0], p[1])\n",
    "        k = k.rename({0:row_name})\n",
    "        final_df.append(k)\n",
    "final_df = pd.concat(final_df)\n",
    "final_df = final_df.rename(columns={0:'h1',1:'h2', 2:'h3'})"
   ]
  },
  {
   "cell_type": "code",
   "execution_count": 879,
   "metadata": {},
   "outputs": [],
   "source": [
    "n_hidden_units = [1536, 48, 32, 1536, 768, 64, 1536, 12, 32, 1536, 1536, 256, 1536, 96, 32]"
   ]
  },
  {
   "cell_type": "code",
   "execution_count": 886,
   "metadata": {},
   "outputs": [],
   "source": [
    "df_h = pd.DataFrame(np.reshape(n_hidden_units, (5, -1)),index=final_df.index.copy())\n",
    "df_h = df_h.rename(columns={0:'h1',1:'h2', 2:'h3'})"
   ]
  },
  {
   "cell_type": "code",
   "execution_count": 909,
   "metadata": {
    "scrolled": true
   },
   "outputs": [
    {
     "name": "stdout",
     "output_type": "stream",
     "text": [
      "\\begin{tabular}{lrrr}\n",
      "\\toprule\n",
      "{} &    h1 &    h2 &   h3 \\\\\n",
      "\\midrule\n",
      "poly\\_n2\\_k2 &  1536 &    48 &   32 \\\\\n",
      "poly\\_n2\\_k4 &  1536 &   768 &   64 \\\\\n",
      "poly\\_n3\\_k2 &  1536 &    12 &   32 \\\\\n",
      "poly\\_n3\\_k4 &  1536 &  1536 &  256 \\\\\n",
      "poly\\_n4\\_k2 &  1536 &    96 &   32 \\\\\n",
      "\\bottomrule\n",
      "\\end{tabular}\n",
      "\n"
     ]
    }
   ],
   "source": [
    "print(df_h.to_latex())"
   ]
  },
  {
   "cell_type": "code",
   "execution_count": 910,
   "metadata": {},
   "outputs": [
    {
     "name": "stdout",
     "output_type": "stream",
     "text": [
      "\\begin{tabular}{lrrr}\n",
      "\\toprule\n",
      "{} &        h1 &        h2 &        h3 \\\\\n",
      "\\midrule\n",
      "poly\\_n2\\_k2 &  0.037077 &  0.029309 &  0.002879 \\\\\n",
      "poly\\_n2\\_k4 &       NaN &  0.028227 &  0.024637 \\\\\n",
      "poly\\_n3\\_k2 &  0.031377 &  0.038649 &  0.006323 \\\\\n",
      "poly\\_n3\\_k4 &       NaN &       NaN &  0.039333 \\\\\n",
      "poly\\_n4\\_k2 &  0.011292 &  0.024187 &  0.022273 \\\\\n",
      "\\bottomrule\n",
      "\\end{tabular}\n",
      "\n"
     ]
    }
   ],
   "source": [
    "print(final_df.to_latex())"
   ]
  },
  {
   "cell_type": "markdown",
   "metadata": {},
   "source": [
    "## Experiment\n",
    "In order to evalulate the theoretical results got from Theorem 1, we construct the following experiments. Let $P_n^k$ be a polynomial in n variables of degree k. Let $Dn_{N,l}$ be a feedforward neural network with N neuron per layer, and l be the number of layer. The general training procedure adopted in both of the experiment is as follow, for each $P_n^k$ where $n,k \\in \\{2, 3, 4\\}$ we generated a dataset made of m = 60.000 samples, which is given to Network respectively $l \\in {1,2,3}$ in randomly sampled minibatch of 3.000, for 20 epochs, which minimize $\\frac{1}{m} \\sum_{m=1}^M (\\hat{y} - y)^2$ using Adam Optimizer with fixed learning rate (lr = 0.001). We repeat this process for 5 trial, and pick the minimum loss reached by the network, for each $P^k_n$.\n",
    "\n",
    "### Experiment 1\n",
    "In the first experiment our goal is to evaluate the impact of the increasing complexity of the true function namely $O(n^k)$, on the $Dn_\\{N,l\\}$ with $N \\in {24,48,72}$, arranged over the number of layers. It's easy to see that as the function increase, i.e. as it's degree increases, the shallow network, substantially underporm deep neural network, and the speed at which the error decreases is almost flat. Leading to the fact that to reach an approximation of $\\epsilon$ the number of units $N$ should increase exponentially.\n",
    "\n",
    "% add chart here %\n",
    "\n",
    "### Experiment 2\n",
    "In the second experiment the idea is to pick an $\\epsilon = 0.05$ and evaluate the number of hidden units needed for each architecture to reach the given accuracy or less, as the complexity of $P_n^k$ increases. For computational purposes the N scales in power of 2, and we stop the training after using 2^9 units. As expeted the shallow network uses exponentially many more units wrt composed architetctures. Nevertheless the number of units required doesn't seem to fit with the prediction in corollary %2%. The results are summarized in the following tables. Notice that if NaN is provied it means that the network never reached the requestd accuracy, using its' full capacity."
   ]
  },
  {
   "cell_type": "code",
   "execution_count": 939,
   "metadata": {},
   "outputs": [],
   "source": [
    "vc_dim = pd.read_csv('vc_dim_2.csv', index_col=0)\n",
    "train_par = pd.read_csv('train_par.csv', index_col=0)"
   ]
  },
  {
   "cell_type": "code",
   "execution_count": 944,
   "metadata": {},
   "outputs": [
    {
     "data": {
      "image/png": "[encoded data removed]",
      "text/plain": [
       "<matplotlib.figure.Figure at 0x130979278>"
      ]
     },
     "metadata": {},
     "output_type": "display_data"
    },
    {
     "data": {
      "image/png": "[encoded data removed]",
      "text/plain": [
       "<matplotlib.figure.Figure at 0x1309794a8>"
      ]
     },
     "metadata": {},
     "output_type": "display_data"
    }
   ],
   "source": [
    "vc_dim.plot()\n",
    "train_par.plot()\n",
    "plt.show()"
   ]
  },
  {
   "cell_type": "code",
   "execution_count": null,
   "metadata": {
    "collapsed": true
   },
   "outputs": [],
   "source": []
  }
 ],
 "metadata": {
  "kernelspec": {
   "display_name": "Python 3",
   "language": "python",
   "name": "python3"
  },
  "language_info": {
   "codemirror_mode": {
    "name": "ipython",
    "version": 3
   },
   "file_extension": ".py",
   "mimetype": "text/x-python",
   "name": "python",
   "nbconvert_exporter": "python",
   "pygments_lexer": "ipython3",
   "version": "3.5.2"
  }
 },
 "nbformat": 4,
 "nbformat_minor": 2
}
